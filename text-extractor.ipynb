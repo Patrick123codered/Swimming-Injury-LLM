{
 "cells": [
  {
   "cell_type": "code",
   "execution_count": 9,
   "metadata": {},
   "outputs": [],
   "source": [
    "import os\n",
    "from PyPDF2 import PdfReader\n",
    "import numpy as np\n",
    "#import pandas as pd\n",
    "import re\n"
   ]
  },
  {
   "cell_type": "code",
   "execution_count": 25,
   "metadata": {},
   "outputs": [],
   "source": [
    "data_dir = \"/Users/seanm/Downloads/Swimming-LLM\"\n",
    "write_dir = \"/Users/seanm/Desktop/Swimming-Injury-LLM/data/\"\n",
    "\n",
    "\n",
    "paths = []\n",
    "for root, dirs, files in os.walk(data_dir):\n",
    "    for file in files:\n",
    "        #print(file)\n",
    "        if file.endswith(\".pdf\"):\n",
    "            paths.append(os.path.join(root, file))"
   ]
  },
  {
   "cell_type": "code",
   "execution_count": 27,
   "metadata": {},
   "outputs": [
    {
     "name": "stdout",
     "output_type": "stream",
     "text": [
      "PyCryptodome is required for AES algorithm\n",
      "Error on pdf /Users/seanm/Downloads/Swimming-LLM/26_jpts-2014-034.pdf\n"
     ]
    },
    {
     "name": "stderr",
     "output_type": "stream",
     "text": [
      "Illegal character in Name Object (b'/ABCDEE+\\xb7s\\xb2\\xd3\\xa9\\xfa\\xc5\\xe9')\n",
      "Illegal character in Name Object (b'/ABCDEE+\\xb7s\\xb2\\xd3\\xa9\\xfa\\xc5\\xe9')\n",
      "Illegal character in Name Object (b'/ABCDEE+\\xb7s\\xb2\\xd3\\xa9\\xfa\\xc5\\xe9')\n",
      "/Users/seanm/opt/anaconda3/envs/SwimRAG/lib/python3.12/site-packages/PyPDF2/_cmap.py:151: PdfReadWarning: Advanced encoding [] not implemented yet\n",
      "  warnings.warn(\n"
     ]
    }
   ],
   "source": [
    "for path in paths:\n",
    "    try:\n",
    "        title = path.lstrip(\"/Users/seanm/Downloads/Swimming-LLM/\")\n",
    "        title = title.rstrip(\".pdf\")\n",
    "     \n",
    "        reader = PdfReader(path)\n",
    "        output = []\n",
    "        len = 0\n",
    "        while True: ## it is ridiculous that I have to do it this way, but I swear to god I've been stuck for an hour\n",
    "            try:\n",
    "                reader.pages[len]\n",
    "                len+=1\n",
    "            except:\n",
    "                break\n",
    "        #print(len)\n",
    "        for i in range(len):\n",
    "            page=reader.pages[i]\n",
    "            output.append(page.extract_text())\n",
    "        filename = os.path.join(write_dir, str(title)+\".txt\")\n",
    "        \n",
    "        np.savetxt(filename, output, fmt=\"%s\")\n",
    "        #counter+=1\n",
    "    except Exception as e:\n",
    "       print(e)\n",
    "       print(f\"Error on pdf {path}\")"
   ]
  }
 ],
 "metadata": {
  "kernelspec": {
   "display_name": "SwimRAG",
   "language": "python",
   "name": "python3"
  },
  "language_info": {
   "codemirror_mode": {
    "name": "ipython",
    "version": 3
   },
   "file_extension": ".py",
   "mimetype": "text/x-python",
   "name": "python",
   "nbconvert_exporter": "python",
   "pygments_lexer": "ipython3",
   "version": "3.12.4"
  }
 },
 "nbformat": 4,
 "nbformat_minor": 2
}
